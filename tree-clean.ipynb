{
 "cells": [
  {
   "cell_type": "markdown",
   "id": "bfeef8ce-d2bf-464f-a20c-023b5bb4b96a",
   "metadata": {},
   "source": [
    "we want dataset to : \n",
    "- clean\n",
    "- standard"
   ]
  },
  {
   "cell_type": "markdown",
   "id": "d06bf419-3251-49c6-a178-8a549be4f03f",
   "metadata": {
    "tags": []
   },
   "source": [
    "we can remove some records with value that we don't need anymore"
   ]
  },
  {
   "cell_type": "markdown",
   "id": "8e02a0f4-a443-4813-976e-84013e8a04bc",
   "metadata": {},
   "source": [
    "explore data => to find issue in data and resolve it"
   ]
  },
  {
   "cell_type": "markdown",
   "id": "efea29b8-3079-443e-9fe5-e8b2a0fd052f",
   "metadata": {},
   "source": []
  }
 ],
 "metadata": {
  "kernelspec": {
   "display_name": "Python 3",
   "language": "python",
   "name": "python3"
  },
  "language_info": {
   "codemirror_mode": {
    "name": "ipython",
    "version": 3
   },
   "file_extension": ".py",
   "mimetype": "text/x-python",
   "name": "python",
   "nbconvert_exporter": "python",
   "pygments_lexer": "ipython3",
   "version": "3.9.12"
  }
 },
 "nbformat": 4,
 "nbformat_minor": 5
}
